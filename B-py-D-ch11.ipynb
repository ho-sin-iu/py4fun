{
 "cells": [
  {
   "cell_type": "markdown",
   "id": "29feb215-bb9f-486f-a6f5-3ae69b91cbe6",
   "metadata": {},
   "source": [
    "## 11-5 傳遞任意數量的參數"
   ]
  },
  {
   "cell_type": "code",
   "execution_count": 22,
   "id": "e5b7144e-c63a-4999-9774-9afdc5d51366",
   "metadata": {},
   "outputs": [
    {
     "name": "stdout",
     "output_type": "stream",
     "text": [
      "I can speak German, Japanese, English, and Mandarin.\n",
      "She can speak Russian, Spanish, English, Arabic, and Urdu.\n"
     ]
    }
   ],
   "source": [
    "def can_speak(people, *lang):\n",
    "    langstr = ''\n",
    "    for i in range(len(lang)):\n",
    "        if i < len(lang)-2:\n",
    "            sep = ', '\n",
    "        elif i == len(lang)-2:\n",
    "            sep = ', and '\n",
    "        else:\n",
    "            sep = '.'\n",
    "        langstr += lang[i] + sep\n",
    "    print(f'{people} can speak {langstr}')\n",
    "can_speak('I', 'German', 'Japanese', 'English', 'Mandarin')\n",
    "can_speak('She', 'Russian', 'Spanish', 'English', 'Arabic', 'Urdu')"
   ]
  },
  {
   "cell_type": "code",
   "execution_count": 29,
   "id": "aa5ad15c-57d7-418c-b583-cf5cfb72c724",
   "metadata": {},
   "outputs": [
    {
     "name": "stdout",
     "output_type": "stream",
     "text": [
      "We can speak English very well.\n",
      "We can speak French fluently.\n"
     ]
    }
   ],
   "source": [
    "def can_speak(people, **lang_prof):\n",
    "    for lang, prof in lang_prof.items():\n",
    "        print(f'{people} can speak {lang} {prof}.')\n",
    "can_speak('We', English='very well', French='fluently')"
   ]
  },
  {
   "cell_type": "markdown",
   "id": "1c9f0c14-6da9-47ef-a96b-9a021bd928df",
   "metadata": {},
   "source": [
    "## 11-6 進一步認識函數"
   ]
  },
  {
   "cell_type": "markdown",
   "id": "419fa60a-5e85-425d-8459-bf53aa20f8b8",
   "metadata": {},
   "source": [
    "### 11-6-3 函數可以是資料結構成員"
   ]
  },
  {
   "cell_type": "code",
   "execution_count": 21,
   "id": "4f8ca6ed-a486-422d-bfb3-3ff8a7632c1e",
   "metadata": {},
   "outputs": [
    {
     "name": "stdout",
     "output_type": "stream",
     "text": [
      "[<built-in function min>, <built-in function max>, <built-in function sum>, <function total at 0x10eaf62a0>]\n"
     ]
    }
   ],
   "source": [
    "def total():\n",
    "    pass\n",
    "li = [min, max, sum, total]\n",
    "print(li)"
   ]
  },
  {
   "cell_type": "code",
   "execution_count": null,
   "id": "94ebe1f4-a573-48d5-97f4-3d1f100877f1",
   "metadata": {},
   "outputs": [],
   "source": []
  }
 ],
 "metadata": {
  "kernelspec": {
   "display_name": "Python 3 (ipykernel)",
   "language": "python",
   "name": "python3"
  },
  "language_info": {
   "codemirror_mode": {
    "name": "ipython",
    "version": 3
   },
   "file_extension": ".py",
   "mimetype": "text/x-python",
   "name": "python",
   "nbconvert_exporter": "python",
   "pygments_lexer": "ipython3",
   "version": "3.12.3"
  }
 },
 "nbformat": 4,
 "nbformat_minor": 5
}
