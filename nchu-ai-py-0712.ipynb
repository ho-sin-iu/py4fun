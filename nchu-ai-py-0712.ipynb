{
 "cells": [
  {
   "cell_type": "markdown",
   "id": "2b7c2bc6-b14d-43fc-baa2-bbc7e5e2fe3e",
   "metadata": {},
   "source": [
    "# Python basics\n",
    "NCHU AI \n",
    "2024-07-12"
   ]
  },
  {
   "cell_type": "markdown",
   "id": "bbb6e545-ad90-4efa-aa20-ddda29c449d4",
   "metadata": {
    "jp-MarkdownHeadingCollapsed": true
   },
   "source": [
    "## Review"
   ]
  },
  {
   "cell_type": "code",
   "execution_count": 4,
   "id": "0e1848c1-d531-40af-bac0-939a4220b726",
   "metadata": {},
   "outputs": [
    {
     "name": "stdin",
     "output_type": "stream",
     "text": [
      "Enter the price: 120\n",
      "Enter the price: 116\n",
      "Enter the price: 117\n",
      "Enter the price: 125\n",
      "Enter the price: 128\n"
     ]
    },
    {
     "name": "stdout",
     "output_type": "stream",
     "text": [
      "average price =  121.2\n"
     ]
    }
   ],
   "source": [
    "prices = []\n",
    "n = 5\n",
    "\n",
    "for i in range(n):\n",
    "    price = int(input(\"Enter the price:\"))\n",
    "    prices.append(price)\n",
    "\n",
    "print(\"average price = \", sum(prices)/n)"
   ]
  },
  {
   "cell_type": "code",
   "execution_count": 7,
   "id": "9f4aa947-7cb1-4456-8f1e-0086dab5e841",
   "metadata": {},
   "outputs": [
    {
     "name": "stdin",
     "output_type": "stream",
     "text": [
      "Enter the price: 120\n",
      "Enter the price: 116\n",
      "Enter the price: 117\n",
      "Enter the price: 125\n",
      "Enter the price: 128\n"
     ]
    },
    {
     "name": "stdout",
     "output_type": "stream",
     "text": [
      "average price =  121.2\n"
     ]
    }
   ],
   "source": [
    "n = 5\n",
    "prices = [int(input(\"Enter the price:\")) for i in range(5)] # list comprehension\n",
    "print(\"average price = \", sum(prices)/n)"
   ]
  },
  {
   "cell_type": "markdown",
   "id": "14d9e973-6d71-4250-8358-cacea8736dca",
   "metadata": {
    "jp-MarkdownHeadingCollapsed": true
   },
   "source": [
    "## Formatted printing\n",
    "### f-string\n",
    "https://docs.python.org/3/reference/lexical_analysis.html#formatted-string-literals"
   ]
  },
  {
   "cell_type": "code",
   "execution_count": 10,
   "id": "ed81023c-344f-4ac6-82e2-e170f78b93ed",
   "metadata": {},
   "outputs": [
    {
     "data": {
      "text/plain": [
       "'result:      12.35'"
      ]
     },
     "execution_count": 10,
     "metadata": {},
     "output_type": "execute_result"
    }
   ],
   "source": [
    "import decimal\n",
    "width = 10\n",
    "precision = 4\n",
    "value = decimal.Decimal(\"12.34567\")\n",
    "f\"result: {value:{width}.{precision}}\" # nested fields"
   ]
  },
  {
   "cell_type": "code",
   "execution_count": 13,
   "id": "00d8f59e-bb83-4b35-86c1-a7d4a7e83b2d",
   "metadata": {},
   "outputs": [
    {
     "data": {
      "text/plain": [
       "'January 27, 2017'"
      ]
     },
     "execution_count": 13,
     "metadata": {},
     "output_type": "execute_result"
    }
   ],
   "source": [
    "import datetime as dt\n",
    "today = dt.datetime(year=2017, month=1, day=27)\n",
    "f\"{today:%B %d, %Y}\"  # using date format specifier"
   ]
  },
  {
   "cell_type": "code",
   "execution_count": 16,
   "id": "3f5f1ab9-17f8-4da0-accf-0f57a6201053",
   "metadata": {},
   "outputs": [
    {
     "data": {
      "text/plain": [
       "'a = 4'"
      ]
     },
     "execution_count": 16,
     "metadata": {},
     "output_type": "execute_result"
    }
   ],
   "source": [
    "a = 1 + 3\n",
    "f\"{a = }\""
   ]
  },
  {
   "cell_type": "code",
   "execution_count": 17,
   "id": "b0fd4d69-54e1-474d-97aa-bd44b8ba51df",
   "metadata": {},
   "outputs": [
    {
     "data": {
      "text/plain": [
       "'0x400'"
      ]
     },
     "execution_count": 17,
     "metadata": {},
     "output_type": "execute_result"
    }
   ],
   "source": [
    "number = 1024\n",
    "f\"{number:#0x}\"  # using integer format specifier"
   ]
  },
  {
   "cell_type": "markdown",
   "id": "5dc431cc-3f52-4efb-b3a4-9c041897ff42",
   "metadata": {},
   "source": [
    "### String method `format()` and others"
   ]
  },
  {
   "cell_type": "code",
   "execution_count": 27,
   "id": "c0a6dbe8-6733-4732-b4fe-71424a454568",
   "metadata": {},
   "outputs": [
    {
     "name": "stdout",
     "output_type": "stream",
     "text": [
      "a = 1, b = 2.00\n"
     ]
    }
   ],
   "source": [
    "print('a = {}, b = {:.2f}'.format(1, 2))"
   ]
  },
  {
   "cell_type": "code",
   "execution_count": 28,
   "id": "5a2c8fd3-d10b-48d8-833a-e11f6719c379",
   "metadata": {},
   "outputs": [
    {
     "name": "stdout",
     "output_type": "stream",
     "text": [
      "a = 1, b = 2.00\n"
     ]
    }
   ],
   "source": [
    "print('a = %s, b = %.2f' % (1, 2))"
   ]
  },
  {
   "cell_type": "markdown",
   "id": "939d2046-c17f-4355-a2a0-43b36771b09c",
   "metadata": {},
   "source": [
    "# Control flow\n",
    "[Python Programming Lecture 03](https://drive.google.com/file/d/1bxTMGMXxul_22Lzf33BcRpDd-1aAgaAt/view?usp=drive_link) by Min-Kuan Chang (National Chung Hsing University, Tachung)"
   ]
  },
  {
   "cell_type": "code",
   "execution_count": 33,
   "id": "41bd723c-9e8d-4060-bed3-bea921a24b86",
   "metadata": {},
   "outputs": [
    {
     "name": "stdin",
     "output_type": "stream",
     "text": [
      "Enter a number: 5\n"
     ]
    }
   ],
   "source": [
    "if int(input('Enter a number:')) < 5:\n",
    "    print('var < 5')"
   ]
  },
  {
   "cell_type": "code",
   "execution_count": 69,
   "id": "e3dc5eec-ecc0-4cc6-a75e-0c722f84d8c7",
   "metadata": {},
   "outputs": [
    {
     "name": "stdin",
     "output_type": "stream",
     "text": [
      "輸入成績: 67\n"
     ]
    },
    {
     "name": "stdout",
     "output_type": "stream",
     "text": [
      "成績67分, 等第為丙等\n"
     ]
    }
   ],
   "source": [
    "grade = int(input(\"輸入成績:\"))\n",
    "\n",
    "if grade >= 90:\n",
    "    scale = \"優等\"\n",
    "elif 80 <= grade < 90:\n",
    "    scale = \"甲等\"\n",
    "elif 70 <= grade < 80:\n",
    "    scale = \"乙等\"\n",
    "elif 60 <= grade < 70:\n",
    "    scale = \"丙等\"\n",
    "else:\n",
    "    scale = \"不及格\"\n",
    "        \n",
    "print(f\"成績{grade}分, 等第為{scale}\")"
   ]
  },
  {
   "cell_type": "code",
   "execution_count": 2,
   "id": "50ef60d6-2fd9-48ac-8dc9-ea233688b7ce",
   "metadata": {},
   "outputs": [],
   "source": [
    "points = [60, 70, 85, 90, 100]\n",
    "scales = [\"不及格\", \"丙等\", \"乙等\", \"甲等\", \"優等\"]"
   ]
  },
  {
   "cell_type": "code",
   "execution_count": 75,
   "id": "78922d75-992a-4936-932f-b949d1fba792",
   "metadata": {},
   "outputs": [
    {
     "name": "stdin",
     "output_type": "stream",
     "text": [
      "輸入成績: 67\n"
     ]
    },
    {
     "name": "stdout",
     "output_type": "stream",
     "text": [
      "成績67分, 等第為丙等\n"
     ]
    }
   ],
   "source": [
    "grade = int(input(\"輸入成績:\"))\n",
    "\n",
    "for i, pt in enumerate(points):\n",
    "    if pt <= grade:\n",
    "        continue\n",
    "    else:\n",
    "        scale = scales[i]\n",
    "        break\n",
    "\n",
    "print(f\"成績{grade}分, 等第為{scale}\")"
   ]
  },
  {
   "cell_type": "code",
   "execution_count": 3,
   "id": "482f170f-f88e-4ff6-a2b0-9e8655ea0cbb",
   "metadata": {},
   "outputs": [
    {
     "name": "stdin",
     "output_type": "stream",
     "text": [
      "輸入成績: 67\n"
     ]
    },
    {
     "name": "stdout",
     "output_type": "stream",
     "text": [
      "成績67分, 等第為丙等\n"
     ]
    }
   ],
   "source": [
    "grade = int(input(\"輸入成績:\"))\n",
    "\n",
    "for pt, sc in zip(points, scales):\n",
    "    if pt <= grade:\n",
    "        continue\n",
    "    else:\n",
    "        scale = sc\n",
    "        break\n",
    "\n",
    "print(f\"成績{grade}分, 等第為{scale}\")"
   ]
  },
  {
   "cell_type": "code",
   "execution_count": null,
   "id": "f3095682-232f-4a7f-acba-13d1432c2adb",
   "metadata": {},
   "outputs": [],
   "source": []
  }
 ],
 "metadata": {
  "kernelspec": {
   "display_name": "Python 3 (ipykernel)",
   "language": "python",
   "name": "python3"
  },
  "language_info": {
   "codemirror_mode": {
    "name": "ipython",
    "version": 3
   },
   "file_extension": ".py",
   "mimetype": "text/x-python",
   "name": "python",
   "nbconvert_exporter": "python",
   "pygments_lexer": "ipython3",
   "version": "3.12.3"
  }
 },
 "nbformat": 4,
 "nbformat_minor": 5
}
