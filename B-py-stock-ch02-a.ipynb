{
 "cells": [
  {
   "cell_type": "markdown",
   "id": "533d9f2d",
   "metadata": {},
   "source": [
    "Web scraping with `requests`, Beautiful Soup 4 and Selelium."
   ]
  },
  {
   "cell_type": "markdown",
   "id": "ac42c1b0-5dc8-4cec-baca-7e7e489b8f8f",
   "metadata": {},
   "source": [
    "## Requests"
   ]
  },
  {
   "cell_type": "code",
   "execution_count": 1,
   "id": "059cab21-728f-4995-a41d-b40869172787",
   "metadata": {},
   "outputs": [],
   "source": [
    "import requests"
   ]
  },
  {
   "cell_type": "markdown",
   "id": "a4fb14b6-2bdb-4a42-80b2-440f3a851279",
   "metadata": {},
   "source": [
    "### GET"
   ]
  },
  {
   "cell_type": "code",
   "execution_count": 2,
   "id": "03704d13-a11f-4f36-a90d-9a9da7bd6feb",
   "metadata": {},
   "outputs": [],
   "source": [
    "html1 = requests.get('https://www.taifex.com.tw/cht/3/futDailyMarketReport')"
   ]
  },
  {
   "cell_type": "code",
   "execution_count": 3,
   "id": "fbde29a6-46ba-4151-a5cc-dd74aecaaef6",
   "metadata": {},
   "outputs": [
    {
     "data": {
      "text/plain": [
       "'<!DOCTYPE HTML PUBLIC \"-//W3C//DTD HTML 4.01//EN\" \"http://www.w3.org/TR/html4/strict.dtd\">\\r\\n\\r\\n\\r\\n<head><meta http-equiv=\"X-UA-Compatible\" content=\"IE=edge\"></head>\\r\\n<html xmlns=\"http://www.w3.org/1999/xhtml\" lang=\"zh-Hant-TW\" >\\r\\n\\t\\t<head>\\r\\n<!-- <meta http-equiv=\"Content-Type\" content=\"text/html; charset=UTF-8\"> -->\\r\\n<!-- <link rel=\"shortcut icon\" type=\"image/x-icon\" -->\\r\\n<!-- <meta property=\"og:image\" -->\\r\\n<!-- \\tcontent=\"https://www.taifex.com.tw/chinese/images/fb_logo.jpg\" /> -->\\r\\n<!-- <meta http'"
      ]
     },
     "execution_count": 3,
     "metadata": {},
     "output_type": "execute_result"
    }
   ],
   "source": [
    "html1.text[:500]"
   ]
  },
  {
   "cell_type": "markdown",
   "id": "d8ba55b1-1f24-45ff-8ba1-7156fbfef835",
   "metadata": {},
   "source": [
    "### POST"
   ]
  },
  {
   "cell_type": "code",
   "execution_count": 4,
   "id": "1900c976-cba8-4ae9-bad1-c1ba8b922cb7",
   "metadata": {},
   "outputs": [],
   "source": [
    "html2 = requests.post('https://www.taifex.com.tw/cht/3/futDailyMarketReport')"
   ]
  },
  {
   "cell_type": "code",
   "execution_count": 5,
   "id": "3ead7d77-b6b6-425f-8276-6d6cd3443a39",
   "metadata": {},
   "outputs": [
    {
     "data": {
      "text/plain": [
       "'<!DOCTYPE HTML PUBLIC \"-//W3C//DTD HTML 4.01//EN\" \"http://www.w3.org/TR/html4/strict.dtd\">\\r\\n\\r\\n\\r\\n<head><meta http-equiv=\"X-UA-Compatible\" content=\"IE=edge\"></head>\\r\\n<html xmlns=\"http://www.w3.org/1999/xhtml\" lang=\"zh-Hant-TW\" >\\r\\n\\t\\t<head>\\r\\n<!-- <meta http-equiv=\"Content-Type\" content=\"text/html; charset=UTF-8\"> -->\\r\\n<!-- <link rel=\"shortcut icon\" type=\"image/x-icon\" -->\\r\\n<!-- <meta property=\"og:image\" -->\\r\\n<!-- \\tcontent=\"https://www.taifex.com.tw/chinese/images/fb_logo.jpg\" /> -->\\r\\n<!-- <meta http-equiv=\"Content-Type\" content=\"text/html; charset=utf-8\" /> -->\\r\\n<!-- <meta http-equiv=\"X-UA-Compati'"
      ]
     },
     "execution_count": 5,
     "metadata": {},
     "output_type": "execute_result"
    }
   ],
   "source": [
    "html2.text[:600]"
   ]
  },
  {
   "cell_type": "code",
   "execution_count": 6,
   "id": "bf0761f1-b42d-4bf6-89c3-54a3b41b1f15",
   "metadata": {},
   "outputs": [],
   "source": [
    "html3 = requests.post('https://www.taifex.com.tw/cht/3/futDailyMarketReport', data={'queryDate': '2024/07/10'})"
   ]
  },
  {
   "cell_type": "code",
   "execution_count": 7,
   "id": "5ddd7879-9e52-4ed0-9dda-fb9422d187f6",
   "metadata": {},
   "outputs": [
    {
     "data": {
      "text/plain": [
       "'<!DOCTYPE HTML PUBLIC \"-//W3C//DTD HTML 4.01//EN\" \"http://www.w3.org/TR/html4/strict.dtd\">\\r\\n\\r\\n\\r\\n<head><meta http-equiv=\"X-UA-Compatible\" content=\"IE=edge\"></head>\\r\\n<html xmlns=\"http://www.w3.org/1999/xhtml\" lang=\"zh-Hant-TW\" >\\r\\n\\t\\t<head>\\r\\n<!-- <meta http-equiv=\"Content-Type\" content=\"text/html; charset=UTF-8\"> -->\\r\\n<!-- <link rel=\"shortcut icon\" type=\"image/x-icon\" -->\\r\\n<!-- <meta property=\"og:image\" -->\\r\\n<!-- \\tcontent=\"https://www.taifex.com.tw/chinese/images/fb_logo.jpg\" /> -->\\r\\n<!-- <meta http-equiv=\"Content-Type\" content=\"text/html; charset=utf-8\" /> -->\\r\\n<!-- <meta http-equiv=\"X-UA-Compati'"
      ]
     },
     "execution_count": 7,
     "metadata": {},
     "output_type": "execute_result"
    }
   ],
   "source": [
    "html3.text[:600]"
   ]
  },
  {
   "cell_type": "markdown",
   "id": "d92af280-4305-4021-9ca3-2f38bed1e082",
   "metadata": {},
   "source": [
    "## Beautiful Soup\n",
    "https://www.crummy.com/software/BeautifulSoup/bs4/doc/"
   ]
  },
  {
   "cell_type": "code",
   "execution_count": 20,
   "id": "76205cfd-fa76-4eae-8789-454e9da0f9de",
   "metadata": {},
   "outputs": [
    {
     "name": "stdout",
     "output_type": "stream",
     "text": [
      "Requirement already satisfied: beautifulsoup4 in /usr/local/Caskroom/miniconda/base/envs/finlab/lib/python3.12/site-packages (4.12.3)\n",
      "Requirement already satisfied: soupsieve>1.2 in /usr/local/Caskroom/miniconda/base/envs/finlab/lib/python3.12/site-packages (from beautifulsoup4) (2.5)\n"
     ]
    }
   ],
   "source": [
    "!pip install beautifulsoup4"
   ]
  },
  {
   "cell_type": "code",
   "execution_count": 21,
   "id": "ede1696c-273c-4e5d-bb38-203598aa7db8",
   "metadata": {},
   "outputs": [
    {
     "name": "stdout",
     "output_type": "stream",
     "text": [
      "Name: beautifulsoup4\n",
      "Version: 4.12.3\n",
      "Summary: Screen-scraping library\n",
      "Home-page: \n",
      "Author: \n",
      "Author-email: Leonard Richardson <leonardr@segfault.org>\n",
      "License: MIT License\n",
      "Location: /usr/local/Caskroom/miniconda/base/envs/finlab/lib/python3.12/site-packages\n",
      "Requires: soupsieve\n",
      "Required-by: bs4\n"
     ]
    }
   ],
   "source": [
    "!pip show beautifulsoup4"
   ]
  },
  {
   "cell_type": "code",
   "execution_count": 9,
   "id": "9a004114-0854-4831-b290-16f299587527",
   "metadata": {},
   "outputs": [],
   "source": [
    "from bs4 import BeautifulSoup"
   ]
  },
  {
   "cell_type": "code",
   "execution_count": 10,
   "id": "11a10139-502b-4b64-9114-ac7229166f22",
   "metadata": {},
   "outputs": [],
   "source": [
    "html_doc = \"\"\"<html><head><title>The Dormouse's story</title></head>\n",
    "<body>\n",
    "<p class=\"title\"><b>The Dormouse's story</b></p>\n",
    "\n",
    "<p class=\"story\">Once upon a time there were three little sisters; and their names were\n",
    "<a href=\"http://example.com/elsie\" class=\"sister\" id=\"link1\">Elsie</a>,\n",
    "<a href=\"http://example.com/lacie\" class=\"sister\" id=\"link2\">Lacie</a> and\n",
    "<a href=\"http://example.com/tillie\" class=\"sister\" id=\"link3\">Tillie</a>;\n",
    "and they lived at the bottom of a well.</p>\n",
    "\n",
    "<p class=\"story\">...</p>\n",
    "\"\"\""
   ]
  },
  {
   "cell_type": "code",
   "execution_count": 11,
   "id": "e2f5254b-f129-4c90-842f-374d3f254e90",
   "metadata": {},
   "outputs": [],
   "source": [
    "soup = BeautifulSoup(html_doc, 'html.parser')"
   ]
  },
  {
   "cell_type": "code",
   "execution_count": 12,
   "id": "39df2ccd-e66e-4e11-9314-e9e41f31d13f",
   "metadata": {},
   "outputs": [
    {
     "data": {
      "text/plain": [
       "<html><head><title>The Dormouse's story</title></head>\n",
       "<body>\n",
       "<p class=\"title\"><b>The Dormouse's story</b></p>\n",
       "<p class=\"story\">Once upon a time there were three little sisters; and their names were\n",
       "<a class=\"sister\" href=\"http://example.com/elsie\" id=\"link1\">Elsie</a>,\n",
       "<a class=\"sister\" href=\"http://example.com/lacie\" id=\"link2\">Lacie</a> and\n",
       "<a class=\"sister\" href=\"http://example.com/tillie\" id=\"link3\">Tillie</a>;\n",
       "and they lived at the bottom of a well.</p>\n",
       "<p class=\"story\">...</p>\n",
       "</body></html>"
      ]
     },
     "execution_count": 12,
     "metadata": {},
     "output_type": "execute_result"
    }
   ],
   "source": [
    "soup"
   ]
  },
  {
   "cell_type": "code",
   "execution_count": 13,
   "id": "995563d3-a9a6-42e1-b5a3-bad8581efb4e",
   "metadata": {},
   "outputs": [
    {
     "name": "stdout",
     "output_type": "stream",
     "text": [
      "<html>\n",
      " <head>\n",
      "  <title>\n",
      "   The Dormouse's story\n",
      "  </title>\n",
      " </head>\n",
      " <body>\n",
      "  <p class=\"title\">\n",
      "   <b>\n",
      "    The Dormouse's story\n",
      "   </b>\n",
      "  </p>\n",
      "  <p class=\"story\">\n",
      "   Once upon a time there were three little sisters; and their names were\n",
      "   <a class=\"sister\" href=\"http://example.com/elsie\" id=\"link1\">\n",
      "    Elsie\n",
      "   </a>\n",
      "   ,\n",
      "   <a class=\"sister\" href=\"http://example.com/lacie\" id=\"link2\">\n",
      "    Lacie\n",
      "   </a>\n",
      "   and\n",
      "   <a class=\"sister\" href=\"http://example.com/tillie\" id=\"link3\">\n",
      "    Tillie\n",
      "   </a>\n",
      "   ;\n",
      "and they lived at the bottom of a well.\n",
      "  </p>\n",
      "  <p class=\"story\">\n",
      "   ...\n",
      "  </p>\n",
      " </body>\n",
      "</html>\n",
      "\n"
     ]
    }
   ],
   "source": [
    "print(soup.prettify())"
   ]
  },
  {
   "cell_type": "code",
   "execution_count": 14,
   "id": "d441c817-730d-40b1-a9ac-05b4858e2da2",
   "metadata": {},
   "outputs": [
    {
     "data": {
      "text/plain": [
       "bs4.BeautifulSoup"
      ]
     },
     "execution_count": 14,
     "metadata": {},
     "output_type": "execute_result"
    }
   ],
   "source": [
    "type(soup)"
   ]
  },
  {
   "cell_type": "code",
   "execution_count": 15,
   "id": "166dfa46-d5ab-499b-835d-018aebaf5850",
   "metadata": {},
   "outputs": [
    {
     "data": {
      "text/plain": [
       "<p class=\"title\"><b>The Dormouse's story</b></p>"
      ]
     },
     "execution_count": 15,
     "metadata": {},
     "output_type": "execute_result"
    }
   ],
   "source": [
    "soup.find('p')"
   ]
  },
  {
   "cell_type": "code",
   "execution_count": 16,
   "id": "08f3f50c-1e74-4b72-a566-956f402c9848",
   "metadata": {},
   "outputs": [
    {
     "data": {
      "text/plain": [
       "[<p class=\"title\"><b>The Dormouse's story</b></p>,\n",
       " <p class=\"story\">Once upon a time there were three little sisters; and their names were\n",
       " <a class=\"sister\" href=\"http://example.com/elsie\" id=\"link1\">Elsie</a>,\n",
       " <a class=\"sister\" href=\"http://example.com/lacie\" id=\"link2\">Lacie</a> and\n",
       " <a class=\"sister\" href=\"http://example.com/tillie\" id=\"link3\">Tillie</a>;\n",
       " and they lived at the bottom of a well.</p>,\n",
       " <p class=\"story\">...</p>]"
      ]
     },
     "execution_count": 16,
     "metadata": {},
     "output_type": "execute_result"
    }
   ],
   "source": [
    "soup.find_all('p')"
   ]
  },
  {
   "cell_type": "markdown",
   "id": "c68dbd09-2216-4f45-b1f7-b6f7934d28e7",
   "metadata": {},
   "source": [
    "## Selenium"
   ]
  },
  {
   "cell_type": "code",
   "execution_count": 22,
   "id": "82f22472-786e-4e17-873b-62b3feb92d60",
   "metadata": {},
   "outputs": [
    {
     "name": "stdout",
     "output_type": "stream",
     "text": [
      "Requirement already satisfied: selenium in /usr/local/Caskroom/miniconda/base/envs/finlab/lib/python3.12/site-packages (4.22.0)\n",
      "Requirement already satisfied: urllib3<3,>=1.26 in /usr/local/Caskroom/miniconda/base/envs/finlab/lib/python3.12/site-packages (from urllib3[socks]<3,>=1.26->selenium) (2.2.2)\n",
      "Requirement already satisfied: trio~=0.17 in /usr/local/Caskroom/miniconda/base/envs/finlab/lib/python3.12/site-packages (from selenium) (0.26.0)\n",
      "Requirement already satisfied: trio-websocket~=0.9 in /usr/local/Caskroom/miniconda/base/envs/finlab/lib/python3.12/site-packages (from selenium) (0.11.1)\n",
      "Requirement already satisfied: certifi>=2021.10.8 in /usr/local/Caskroom/miniconda/base/envs/finlab/lib/python3.12/site-packages (from selenium) (2024.7.4)\n",
      "Requirement already satisfied: typing_extensions>=4.9.0 in /usr/local/Caskroom/miniconda/base/envs/finlab/lib/python3.12/site-packages (from selenium) (4.12.2)\n",
      "Requirement already satisfied: websocket-client>=1.8.0 in /usr/local/Caskroom/miniconda/base/envs/finlab/lib/python3.12/site-packages (from selenium) (1.8.0)\n",
      "Requirement already satisfied: attrs>=23.2.0 in /usr/local/Caskroom/miniconda/base/envs/finlab/lib/python3.12/site-packages (from trio~=0.17->selenium) (23.2.0)\n",
      "Requirement already satisfied: sortedcontainers in /usr/local/Caskroom/miniconda/base/envs/finlab/lib/python3.12/site-packages (from trio~=0.17->selenium) (2.4.0)\n",
      "Requirement already satisfied: idna in /usr/local/Caskroom/miniconda/base/envs/finlab/lib/python3.12/site-packages (from trio~=0.17->selenium) (3.7)\n",
      "Requirement already satisfied: outcome in /usr/local/Caskroom/miniconda/base/envs/finlab/lib/python3.12/site-packages (from trio~=0.17->selenium) (1.3.0.post0)\n",
      "Requirement already satisfied: sniffio>=1.3.0 in /usr/local/Caskroom/miniconda/base/envs/finlab/lib/python3.12/site-packages (from trio~=0.17->selenium) (1.3.1)\n",
      "Requirement already satisfied: wsproto>=0.14 in /usr/local/Caskroom/miniconda/base/envs/finlab/lib/python3.12/site-packages (from trio-websocket~=0.9->selenium) (1.2.0)\n",
      "Requirement already satisfied: pysocks!=1.5.7,<2.0,>=1.5.6 in /usr/local/Caskroom/miniconda/base/envs/finlab/lib/python3.12/site-packages (from urllib3[socks]<3,>=1.26->selenium) (1.7.1)\n",
      "Requirement already satisfied: h11<1,>=0.9.0 in /usr/local/Caskroom/miniconda/base/envs/finlab/lib/python3.12/site-packages (from wsproto>=0.14->trio-websocket~=0.9->selenium) (0.14.0)\n"
     ]
    }
   ],
   "source": [
    "!pip install selenium"
   ]
  },
  {
   "cell_type": "code",
   "execution_count": 23,
   "id": "15822970-cbce-458c-b581-2d08e00bf6db",
   "metadata": {},
   "outputs": [
    {
     "name": "stdout",
     "output_type": "stream",
     "text": [
      "Name: selenium\n",
      "Version: 4.22.0\n",
      "Summary: Official Python bindings for Selenium WebDriver\n",
      "Home-page: https://www.selenium.dev\n",
      "Author: \n",
      "Author-email: \n",
      "License: Apache 2.0\n",
      "Location: /usr/local/Caskroom/miniconda/base/envs/finlab/lib/python3.12/site-packages\n",
      "Requires: certifi, trio, trio-websocket, typing_extensions, urllib3, websocket-client\n",
      "Required-by: \n"
     ]
    }
   ],
   "source": [
    "!pip show selenium"
   ]
  },
  {
   "cell_type": "code",
   "execution_count": null,
   "id": "34b1eea5-754c-4862-a899-2eecbc091af1",
   "metadata": {},
   "outputs": [],
   "source": []
  }
 ],
 "metadata": {
  "kernelspec": {
   "display_name": "Python 3 (ipykernel)",
   "language": "python",
   "name": "python3"
  },
  "language_info": {
   "codemirror_mode": {
    "name": "ipython",
    "version": 3
   },
   "file_extension": ".py",
   "mimetype": "text/x-python",
   "name": "python",
   "nbconvert_exporter": "python",
   "pygments_lexer": "ipython3",
   "version": "3.12.3"
  }
 },
 "nbformat": 4,
 "nbformat_minor": 5
}
